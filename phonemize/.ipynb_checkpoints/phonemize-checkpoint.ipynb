{
 "cells": [
  {
   "cell_type": "markdown",
   "id": "scheduled-equivalent",
   "metadata": {},
   "source": [
    "## Phonemizer\n",
    "\n",
    "This phonemizer script is based on this repository https://github.com/bootphon/phonemizer. The list of supported language can be found here https://github.com/espeak-ng/espeak-ng/blob/master/docs/languages.md"
   ]
  },
  {
   "cell_type": "markdown",
   "id": "sixth-pontiac",
   "metadata": {},
   "source": [
    "# Install dependencies"
   ]
  },
  {
   "cell_type": "code",
   "execution_count": 23,
   "id": "biblical-absolute",
   "metadata": {},
   "outputs": [
    {
     "name": "stdin",
     "output_type": "stream",
     "text": [
      " ·····\n"
     ]
    },
    {
     "data": {
      "text/plain": [
       "256"
      ]
     },
     "execution_count": 23,
     "metadata": {},
     "output_type": "execute_result"
    }
   ],
   "source": [
    "sudo apt-get install festival espeak-ng mbrola"
   ]
  },
  {
   "cell_type": "code",
   "execution_count": null,
   "id": "confirmed-helmet",
   "metadata": {},
   "outputs": [
    {
     "name": "stdout",
     "output_type": "stream",
     "text": [
      "Found existing installation: phonemizer 2.2.2\n",
      "Uninstalling phonemizer-2.2.2:\n",
      "  Would remove:\n",
      "    /home/nicolas-dufour/anaconda3/bin/phonemize\n",
      "    /home/nicolas-dufour/anaconda3/lib/python3.8/site-packages/phonemizer-2.2.2.dist-info/*\n",
      "    /home/nicolas-dufour/anaconda3/lib/python3.8/site-packages/phonemizer/*\n",
      "Proceed (y/n)? "
     ]
    }
   ],
   "source": [
    "!pip uninstall phonemizer"
   ]
  },
  {
   "cell_type": "code",
   "execution_count": 25,
   "id": "defined-pathology",
   "metadata": {},
   "outputs": [],
   "source": [
    "from phonemizer import phonemize"
   ]
  },
  {
   "cell_type": "code",
   "execution_count": 26,
   "id": "sustainable-recycling",
   "metadata": {},
   "outputs": [],
   "source": [
    "sentences = 'lolilol' #['J\\'aime les chats','As tu vu le Marsupilami']"
   ]
  },
  {
   "cell_type": "code",
   "execution_count": 27,
   "id": "optical-brief",
   "metadata": {},
   "outputs": [
    {
     "name": "stderr",
     "output_type": "stream",
     "text": [
      "[ERROR] xcb_connection_has_error() returned true\n",
      "[ERROR] shared memfd open() failed: Function not implemented\n"
     ]
    },
    {
     "ename": "RuntimeError",
     "evalue": "espeak failed with return code 0",
     "output_type": "error",
     "traceback": [
      "\u001b[0;31m---------------------------------------------------------------------------\u001b[0m",
      "\u001b[0;31mRuntimeError\u001b[0m                              Traceback (most recent call last)",
      "\u001b[0;32m<ipython-input-27-7a8baa43a6e0>\u001b[0m in \u001b[0;36m<module>\u001b[0;34m\u001b[0m\n\u001b[0;32m----> 1\u001b[0;31m \u001b[0mphonemize\u001b[0m\u001b[0;34m(\u001b[0m\u001b[0msentences\u001b[0m\u001b[0;34m,\u001b[0m \u001b[0mlanguage\u001b[0m\u001b[0;34m=\u001b[0m\u001b[0;34m'fr-fr'\u001b[0m\u001b[0;34m,\u001b[0m \u001b[0mbackend\u001b[0m \u001b[0;34m=\u001b[0m \u001b[0;34m'espeak'\u001b[0m\u001b[0;34m)\u001b[0m\u001b[0;34m\u001b[0m\u001b[0;34m\u001b[0m\u001b[0m\n\u001b[0m",
      "\u001b[0;32m~/anaconda3/lib/python3.8/site-packages/phonemizer/phonemize.py\u001b[0m in \u001b[0;36mphonemize\u001b[0;34m(text, language, backend, separator, strip, preserve_punctuation, punctuation_marks, with_stress, language_switch, njobs, logger)\u001b[0m\n\u001b[1;32m    172\u001b[0m \u001b[0;34m\u001b[0m\u001b[0m\n\u001b[1;32m    173\u001b[0m     \u001b[0;31m# phonemize the input text\u001b[0m\u001b[0;34m\u001b[0m\u001b[0;34m\u001b[0m\u001b[0;34m\u001b[0m\u001b[0m\n\u001b[0;32m--> 174\u001b[0;31m     return phonemizer.phonemize(\n\u001b[0m\u001b[1;32m    175\u001b[0m         text, separator=separator, strip=strip, njobs=njobs)\n",
      "\u001b[0;32m~/anaconda3/lib/python3.8/site-packages/phonemizer/backend/espeak.py\u001b[0m in \u001b[0;36mphonemize\u001b[0;34m(self, text, separator, strip, njobs)\u001b[0m\n\u001b[1;32m    193\u001b[0m         \u001b[0;32mif\u001b[0m \u001b[0mnjobs\u001b[0m \u001b[0;34m==\u001b[0m \u001b[0;36m1\u001b[0m\u001b[0;34m:\u001b[0m\u001b[0;34m\u001b[0m\u001b[0;34m\u001b[0m\u001b[0m\n\u001b[1;32m    194\u001b[0m             \u001b[0;31m# phonemize the text forced as a string\u001b[0m\u001b[0;34m\u001b[0m\u001b[0;34m\u001b[0m\u001b[0;34m\u001b[0m\u001b[0m\n\u001b[0;32m--> 195\u001b[0;31m             text, lang_switches = self._phonemize_aux(\n\u001b[0m\u001b[1;32m    196\u001b[0m                 list2str(text), separator, strip)\n\u001b[1;32m    197\u001b[0m         \u001b[0;32melse\u001b[0m\u001b[0;34m:\u001b[0m\u001b[0;34m\u001b[0m\u001b[0;34m\u001b[0m\u001b[0m\n",
      "\u001b[0;32m~/anaconda3/lib/python3.8/site-packages/phonemizer/backend/espeak.py\u001b[0m in \u001b[0;36m_phonemize_aux\u001b[0;34m(self, text, separator, strip)\u001b[0m\n\u001b[1;32m    273\u001b[0m                             \u001b[0mself\u001b[0m\u001b[0;34m.\u001b[0m\u001b[0mlogger\u001b[0m\u001b[0;34m.\u001b[0m\u001b[0merror\u001b[0m\u001b[0;34m(\u001b[0m\u001b[0merr_line\u001b[0m\u001b[0;34m)\u001b[0m\u001b[0;34m\u001b[0m\u001b[0;34m\u001b[0m\u001b[0m\n\u001b[1;32m    274\u001b[0m                     \u001b[0;32mif\u001b[0m \u001b[0merror\u001b[0m \u001b[0;32mor\u001b[0m \u001b[0mcompleted\u001b[0m\u001b[0;34m.\u001b[0m\u001b[0mreturncode\u001b[0m\u001b[0;34m:\u001b[0m  \u001b[0;31m# pragma: nocover\u001b[0m\u001b[0;34m\u001b[0m\u001b[0;34m\u001b[0m\u001b[0m\n\u001b[0;32m--> 275\u001b[0;31m                         raise RuntimeError(\n\u001b[0m\u001b[1;32m    276\u001b[0m                             \u001b[0;34mf'espeak failed with return code '\u001b[0m\u001b[0;34m\u001b[0m\u001b[0;34m\u001b[0m\u001b[0m\n\u001b[1;32m    277\u001b[0m                             f'{completed.returncode}')\n",
      "\u001b[0;31mRuntimeError\u001b[0m: espeak failed with return code 0"
     ]
    }
   ],
   "source": [
    "phonemize(sentences, language='fr-fr', backend = 'espeak')"
   ]
  },
  {
   "cell_type": "code",
   "execution_count": null,
   "id": "voluntary-delay",
   "metadata": {},
   "outputs": [],
   "source": []
  }
 ],
 "metadata": {
  "kernelspec": {
   "display_name": "Python 3",
   "language": "python",
   "name": "python3"
  },
  "language_info": {
   "codemirror_mode": {
    "name": "ipython",
    "version": 3
   },
   "file_extension": ".py",
   "mimetype": "text/x-python",
   "name": "python",
   "nbconvert_exporter": "python",
   "pygments_lexer": "ipython3",
   "version": "3.8.5"
  }
 },
 "nbformat": 4,
 "nbformat_minor": 5
}

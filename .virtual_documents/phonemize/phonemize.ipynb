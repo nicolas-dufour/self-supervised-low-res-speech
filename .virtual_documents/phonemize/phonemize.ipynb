sudo apt-get install festival espeak-ng mbrola
pip install phonemizer


from phonemizer import phonemize


sentences = 'lolilol' #['J\'aime les chats','As tu vu le Marsupilami']


phonemize(sentences, language='fr-fr', backend = 'espeak')



